{
 "cells": [
  {
   "cell_type": "markdown",
   "id": "60f15104",
   "metadata": {},
   "source": [
    "### Zoo Management System"
   ]
  },
  {
   "cell_type": "code",
   "execution_count": 1,
   "id": "df2101f3",
   "metadata": {},
   "outputs": [],
   "source": [
    "class Zoo:\n",
    "    def __init__(self, name, gender, age, animal_feed, carer,habitat):\n",
    "        self.name = name\n",
    "        self.gender = gender\n",
    "        self.age = age\n",
    "        self.animal_feed = animal_feed\n",
    "        self.carer = carer\n",
    "        self.habitat = habitat\n",
    "\n",
    "    def display_details(self):\n",
    "        print(f\"Name: {self.name}\")\n",
    "        print(f\"Gender: {self.gender}\")\n",
    "        print(f\"Age: {self.age}\")\n",
    "        print(f\"Feed: {self.animal_feed}\")\n",
    "        print(f\"Carer: {self.carer}\")\n",
    "        print(f\"Habitat: {self.habitat}\")\n",
    "\n",
    "zoo_dict = {}"
   ]
  },
  {
   "cell_type": "code",
   "execution_count": 2,
   "id": "07cd2079",
   "metadata": {},
   "outputs": [
    {
     "name": "stdout",
     "output_type": "stream",
     "text": [
      "\n",
      "Welcome to the Ghana International Zoo\n",
      "\n",
      "Please select an option:\n",
      "1. Add Animal\n",
      "2. View Animal Details\n",
      "3. Exit\n"
     ]
    },
    {
     "name": "stdin",
     "output_type": "stream",
     "text": [
      "Enter your choice (1-3):  1\n",
      "Enter the animal name:  Tiger\n",
      "Enter the animal's gender:  Female\n",
      "How old is the animal?  3\n",
      "Enter the animal's feed:  Meat\n",
      "Enter the name of the animal's carer:  Ella\n",
      "Enter the animal name to set habitat:  Cage\n"
     ]
    },
    {
     "name": "stdout",
     "output_type": "stream",
     "text": [
      "Tiger has been added to the zoo.\n",
      "\n",
      "Please select an option:\n",
      "1. Add Animal\n",
      "2. View Animal Details\n",
      "3. Exit\n"
     ]
    },
    {
     "name": "stdin",
     "output_type": "stream",
     "text": [
      "Enter your choice (1-3):  1\n",
      "Enter the animal name:  Giraffe\n",
      "Enter the animal's gender:  Male\n",
      "How old is the animal?  4\n",
      "Enter the animal's feed:  Grass\n",
      "Enter the name of the animal's carer:  Derrick\n",
      "Enter the animal name to set habitat:  Savannah\n"
     ]
    },
    {
     "name": "stdout",
     "output_type": "stream",
     "text": [
      "Giraffe has been added to the zoo.\n",
      "\n",
      "Please select an option:\n",
      "1. Add Animal\n",
      "2. View Animal Details\n",
      "3. Exit\n"
     ]
    },
    {
     "name": "stdin",
     "output_type": "stream",
     "text": [
      "Enter your choice (1-3):  1\n",
      "Enter the animal name:  Buffalo\n",
      "Enter the animal's gender:  Male\n",
      "How old is the animal?  3\n",
      "Enter the animal's feed:  Meat\n",
      "Enter the name of the animal's carer:  Lydia\n",
      "Enter the animal name to set habitat:  Pond\n"
     ]
    },
    {
     "name": "stdout",
     "output_type": "stream",
     "text": [
      "Buffalo has been added to the zoo.\n",
      "\n",
      "Please select an option:\n",
      "1. Add Animal\n",
      "2. View Animal Details\n",
      "3. Exit\n"
     ]
    },
    {
     "name": "stdin",
     "output_type": "stream",
     "text": [
      "Enter your choice (1-3):  1\n",
      "Enter the animal name:  Lion\n",
      "Enter the animal's gender:  Female\n",
      "How old is the animal?  5\n",
      "Enter the animal's feed:  Meat\n",
      "Enter the name of the animal's carer:  Ameyaw\n",
      "Enter the animal name to set habitat:  Jungle\n"
     ]
    },
    {
     "name": "stdout",
     "output_type": "stream",
     "text": [
      "Lion has been added to the zoo.\n",
      "\n",
      "Please select an option:\n",
      "1. Add Animal\n",
      "2. View Animal Details\n",
      "3. Exit\n"
     ]
    },
    {
     "name": "stdin",
     "output_type": "stream",
     "text": [
      "Enter your choice (1-3):  2\n",
      "Enter the animal name to view details:  Lion\n"
     ]
    },
    {
     "name": "stdout",
     "output_type": "stream",
     "text": [
      "Name: Lion\n",
      "Gender: Female\n",
      "Age: 5\n",
      "Feed: Meat\n",
      "Carer: Ameyaw\n",
      "Habitat: Jungle\n",
      "\n",
      "Please select an option:\n",
      "1. Add Animal\n",
      "2. View Animal Details\n",
      "3. Exit\n"
     ]
    },
    {
     "name": "stdin",
     "output_type": "stream",
     "text": [
      "Enter your choice (1-3):  1\n",
      "Enter the animal name:  Cat Fish\n",
      "Enter the animal's gender:  Female\n",
      "How old is the animal?  2\n",
      "Enter the animal's feed:  Worms\n",
      "Enter the name of the animal's carer:  Amanda\n",
      "Enter the animal name to set habitat:  Aquarium\n"
     ]
    },
    {
     "name": "stdout",
     "output_type": "stream",
     "text": [
      "Cat Fish has been added to the zoo.\n",
      "\n",
      "Please select an option:\n",
      "1. Add Animal\n",
      "2. View Animal Details\n",
      "3. Exit\n"
     ]
    },
    {
     "name": "stdin",
     "output_type": "stream",
     "text": [
      "Enter your choice (1-3):  2\n",
      "Enter the animal name to view details:  Cat Fish\n"
     ]
    },
    {
     "name": "stdout",
     "output_type": "stream",
     "text": [
      "Name: Cat Fish\n",
      "Gender: Female\n",
      "Age: 2\n",
      "Feed: Worms\n",
      "Carer: Amanda\n",
      "Habitat: Aquarium\n",
      "\n",
      "Please select an option:\n",
      "1. Add Animal\n",
      "2. View Animal Details\n",
      "3. Exit\n"
     ]
    },
    {
     "name": "stdin",
     "output_type": "stream",
     "text": [
      "Enter your choice (1-3):  3\n"
     ]
    },
    {
     "name": "stdout",
     "output_type": "stream",
     "text": [
      "Thank you for visiting the Ghana International Zoo. Goodbye!\n"
     ]
    }
   ],
   "source": [
    "def add_animal():\n",
    "    animal_name = input(\"Enter the animal name: \")\n",
    "    animal_gender = input(\"Enter the animal's gender: \")\n",
    "    animal_age = input(\"How old is the animal? \")\n",
    "    animal_feed = input(\"Enter the animal's feed: \")\n",
    "    animal_carer = input(\"Enter the name of the animal's carer: \")\n",
    "    animal_habitat = input(\"Enter the animal name to set habitat: \")\n",
    "\n",
    "    zoo_dict[animal_name] = Zoo(animal_name, animal_gender, animal_age, animal_feed, animal_carer, animal_habitat)\n",
    "    print(f\"{animal_name} has been added to the zoo.\")\n",
    "\n",
    "print(\"\\nWelcome to the Ghana International Zoo\")\n",
    "\n",
    "while True:\n",
    "    print(\"\\nPlease select an option:\")\n",
    "    print(\"1. Add Animal\")\n",
    "    print(\"2. View Animal Details\")\n",
    "    print(\"3. Exit\")\n",
    "\n",
    "    option = input(\"Enter your choice (1-3): \")\n",
    "\n",
    "    if option == '1':\n",
    "        add_animal()\n",
    "    elif option == '2':\n",
    "        animal_name = input(\"Enter the animal name to view details: \")\n",
    "        if animal_name in zoo_dict:\n",
    "            zoo_dict[animal_name].display_details()\n",
    "        else:\n",
    "            print(f\"No details found for {animal_name}.\")\n",
    "    elif option == '3':\n",
    "        print(\"Thank you for visiting the Ghana International Zoo. Goodbye!\")\n",
    "        break\n",
    "    else:\n",
    "        print(\"Invalid option. Please try again.\")\n"
   ]
  }
 ],
 "metadata": {
  "kernelspec": {
   "display_name": "Python 3 (ipykernel)",
   "language": "python",
   "name": "python3"
  },
  "language_info": {
   "codemirror_mode": {
    "name": "ipython",
    "version": 3
   },
   "file_extension": ".py",
   "mimetype": "text/x-python",
   "name": "python",
   "nbconvert_exporter": "python",
   "pygments_lexer": "ipython3",
   "version": "3.11.7"
  }
 },
 "nbformat": 4,
 "nbformat_minor": 5
}
