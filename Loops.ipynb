{
 "cells": [
  {
   "cell_type": "markdown",
   "id": "c981861e",
   "metadata": {},
   "source": [
    "# Q1\n",
    "Write a code to display a list of the first 12 multiples of 8 using a for loop\n"
   ]
  },
  {
   "cell_type": "code",
   "execution_count": 21,
   "id": "2d27d010-c85b-475c-8562-41522a70233f",
   "metadata": {},
   "outputs": [
    {
     "name": "stdout",
     "output_type": "stream",
     "text": [
      "[8, 16, 24, 32, 40, 48, 56, 64, 72, 80, 88, 96]\n"
     ]
    }
   ],
   "source": [
    "multiples_of_8 = []\n",
    "for i in range(1, 13):\n",
    "    multiples_of_8.append(i * 8)\n",
    "print(multiples_of_8)"
   ]
  },
  {
   "cell_type": "markdown",
   "id": "d9f7d0f9",
   "metadata": {},
   "source": [
    "# Q2\n",
    "Write the code to print sum of all even numbers from 1 to 201"
   ]
  },
  {
   "cell_type": "code",
   "execution_count": 22,
   "id": "9536c058-a9db-4cbf-a522-8520b3544df2",
   "metadata": {},
   "outputs": [
    {
     "name": "stdout",
     "output_type": "stream",
     "text": [
      "The sum of all even numbers from 1 to 201 is: 10100\n"
     ]
    }
   ],
   "source": [
    "sum_even_numbers = 0\n",
    "for i in range(1, 202):\n",
    "    if i % 2 == 0:\n",
    "        sum_even_numbers += i\n",
    "print(\"The sum of all even numbers from 1 to 201 is:\", sum_even_numbers)"
   ]
  },
  {
   "cell_type": "markdown",
   "id": "4f0f12d7",
   "metadata": {},
   "source": [
    "# Q3\n",
    "`my_list = [3, 5, 7, 12, 41]`\n",
    "\n",
    "Write the code to display the list of the squares of each number in my list\n",
    "\n",
    "- Without using list comprehension\n",
    "- Using list comprehension\n"
   ]
  },
  {
   "cell_type": "markdown",
   "id": "f592b9c8-8c57-49b0-b7f7-34a59fd9c0ef",
   "metadata": {},
   "source": [
    "### Without list comprehension"
   ]
  },
  {
   "cell_type": "code",
   "execution_count": 6,
   "id": "7d8df8ea-644b-404c-8dc3-522739997b60",
   "metadata": {},
   "outputs": [
    {
     "name": "stdout",
     "output_type": "stream",
     "text": [
      "Squares without list comprehension: [9, 25, 49, 144, 1681]\n"
     ]
    }
   ],
   "source": [
    "my_list = [3, 5, 7, 12, 41]\n",
    "squares = []\n",
    "for number in my_list:\n",
    "    squares.append(number ** 2)\n",
    "print(\"Squares without list comprehension:\", squares)"
   ]
  },
  {
   "cell_type": "markdown",
   "id": "859c5d09-3f17-45cd-86ef-4f77848ed3a9",
   "metadata": {},
   "source": [
    "### Using list comprehension"
   ]
  },
  {
   "cell_type": "code",
   "execution_count": 7,
   "id": "dc95bc84-261c-4fec-9bb0-c3c0f9d0f095",
   "metadata": {},
   "outputs": [
    {
     "name": "stdout",
     "output_type": "stream",
     "text": [
      "Squares with list comprehension: [9, 25, 49, 144, 1681]\n"
     ]
    }
   ],
   "source": [
    "my_list = [3, 5, 7, 12, 41]\n",
    "squares = [number ** 2 for number in my_list]\n",
    "print(\"Squares with list comprehension:\", squares)"
   ]
  },
  {
   "cell_type": "markdown",
   "id": "28bed149",
   "metadata": {},
   "source": [
    "# Q4\n",
    "`my_list1 = [3, 53,47, 22, 53, 78, 12, 41]`\n",
    "\n",
    "Calculate the average of my_list1\n",
    "\n",
    "- Without using sum and len fucnctions\n",
    "- Using sum and len functions\n"
   ]
  },
  {
   "cell_type": "markdown",
   "id": "3ede5829-01cb-446e-b888-392b00b9c1db",
   "metadata": {},
   "source": [
    "### Without Using sum and len Functions"
   ]
  },
  {
   "cell_type": "code",
   "execution_count": 1,
   "id": "cd7edb9e-4676-4c07-9d73-c39d18d3a557",
   "metadata": {},
   "outputs": [
    {
     "name": "stdout",
     "output_type": "stream",
     "text": [
      "Average without using sum and len functions: 38.625\n"
     ]
    }
   ],
   "source": [
    "my_list1 = [3, 53, 47, 22, 53, 78, 12, 41]\n",
    "total_sum = 0\n",
    "count = 0\n",
    "for number in my_list1:\n",
    "    total_sum += number\n",
    "    count += 1\n",
    "average = total_sum / count\n",
    "print(\"Average without using sum and len functions:\", average)"
   ]
  },
  {
   "cell_type": "markdown",
   "id": "9157ca2f-cf2f-4e79-89ba-7e7ba38c269d",
   "metadata": {},
   "source": [
    "### Using sum and len Functions"
   ]
  },
  {
   "cell_type": "code",
   "execution_count": 2,
   "id": "ea0c2663-904d-4bcf-a171-239ed34f87d7",
   "metadata": {},
   "outputs": [
    {
     "name": "stdout",
     "output_type": "stream",
     "text": [
      "Average using sum and len functions: 38.625\n"
     ]
    }
   ],
   "source": [
    "my_list1 = [3, 53, 47, 22, 53, 78, 12, 41]\n",
    "total_sum = sum(my_list1)\n",
    "count = len(my_list1)\n",
    "average = total_sum / count\n",
    "print(\"Average using sum and len functions:\", average)"
   ]
  },
  {
   "cell_type": "markdown",
   "id": "38c1ddff",
   "metadata": {},
   "source": [
    "# Q5\n",
    "\n",
    "Write a Python program to guess a number between 1 and 9.\n",
    "User is prompted to enter a guess. If the user guesses wrong then the prompt appears again until the guess is correct, on successful guess, user will get a \"Well guessed!\" message, and the program will exit."
   ]
  },
  {
   "cell_type": "code",
   "execution_count": 6,
   "id": "20ad63ef-1669-4ed9-928a-e44138189504",
   "metadata": {},
   "outputs": [
    {
     "name": "stdin",
     "output_type": "stream",
     "text": [
      "Guess a number between 1 and 9:  7\n"
     ]
    },
    {
     "name": "stdout",
     "output_type": "stream",
     "text": [
      "Try again!\n"
     ]
    },
    {
     "name": "stdin",
     "output_type": "stream",
     "text": [
      "Guess a number between 1 and 9:  2\n"
     ]
    },
    {
     "name": "stdout",
     "output_type": "stream",
     "text": [
      "Well guessed!\n"
     ]
    }
   ],
   "source": [
    "import random\n",
    "number_to_guess = random.randint(1, 9)\n",
    "while True:\n",
    "    user_guess = int(input(\"Guess a number between 1 and 9: \"))\n",
    "    if user_guess == number_to_guess:\n",
    "        print(\"Well guessed!\")\n",
    "        break\n",
    "    else:\n",
    "        print(\"Try again!\")"
   ]
  },
  {
   "cell_type": "markdown",
   "id": "f5c02baa",
   "metadata": {},
   "source": [
    "# Q6\n",
    "Write a Python program to construct the following pattern.\n",
    "\n",
    "`*` \n",
    "\n",
    "`* *` \n",
    "\n",
    "`* * *` \n",
    "\n",
    "`* * * *` \n",
    "\n",
    "`* * * * *`"
   ]
  },
  {
   "cell_type": "code",
   "execution_count": 4,
   "id": "9d221cc2-283b-4c5a-b8a1-774affac7180",
   "metadata": {},
   "outputs": [
    {
     "name": "stdout",
     "output_type": "stream",
     "text": [
      "* \n",
      "* * \n",
      "* * * \n",
      "* * * * \n",
      "* * * * * \n"
     ]
    }
   ],
   "source": [
    "num_rows = 5\n",
    "for i in range(1, num_rows + 1):\n",
    "    print('* ' * i)"
   ]
  },
  {
   "cell_type": "markdown",
   "id": "e85d94df",
   "metadata": {},
   "source": [
    "# Q7\n",
    "\n",
    "Write a Python program that accepts a word from the user and reverses it."
   ]
  },
  {
   "cell_type": "code",
   "execution_count": 5,
   "id": "4dd4a097-ed37-482f-a35f-9303b97b14ed",
   "metadata": {},
   "outputs": [
    {
     "name": "stdin",
     "output_type": "stream",
     "text": [
      "Enter a word:  Precious\n"
     ]
    },
    {
     "name": "stdout",
     "output_type": "stream",
     "text": [
      "Reversed word: suoicerP\n"
     ]
    }
   ],
   "source": [
    "word = input(\"Enter a word: \")\n",
    "reversed_word = word[::-1]\n",
    "print(\"Reversed word:\", reversed_word)"
   ]
  },
  {
   "cell_type": "markdown",
   "id": "5a99d4b3",
   "metadata": {},
   "source": [
    "# Q8\n",
    "\n",
    "`lst = [3,4,5,4,7,8,5,8,3,6,8,9,11]`\n",
    "\n",
    "Write a Python program to count the number of even and odd numbers in the above list of numbers.\n",
    "\n",
    "**Expected output should be in this format**\n",
    "\n",
    "{\"Even\" : num_of_even, \"Odd\": num_of_odd}"
   ]
  },
  {
   "cell_type": "code",
   "execution_count": 7,
   "id": "eee31a2f-ddbe-424c-b3df-f50f4461e8fe",
   "metadata": {},
   "outputs": [
    {
     "name": "stdout",
     "output_type": "stream",
     "text": [
      "{'Even': 6, 'Odd': 7}\n"
     ]
    }
   ],
   "source": [
    "lst = [3, 4, 5, 4, 7, 8, 5, 8, 3, 6, 8, 9, 11]\n",
    "num_of_even = 0\n",
    "num_of_odd = 0\n",
    "for num in lst:\n",
    "    if num % 2 == 0:\n",
    "        num_of_even += 1\n",
    "    else:\n",
    "        num_of_odd += 1\n",
    "result = {\"Even\": num_of_even, \"Odd\": num_of_odd}\n",
    "print(result)"
   ]
  },
  {
   "cell_type": "markdown",
   "id": "c92b54f9",
   "metadata": {},
   "source": [
    "# Q9\n",
    " Write a Python program that iterates the integers from 1 to 50. For multiples of three print \"Fizz\" instead of the number and for multiples of five print \"Buzz\". For numbers that are multiples of three and five, print \"FizzBuzz\".\n",
    "Sample Output :\n",
    "1\n",
    "\n",
    "2\n",
    "\n",
    "fizz\n",
    "\n",
    "4\n",
    "\n",
    "buzz"
   ]
  },
  {
   "cell_type": "code",
   "execution_count": 8,
   "id": "3d82fec8-57db-46bd-b6de-bb2821035869",
   "metadata": {},
   "outputs": [
    {
     "name": "stdout",
     "output_type": "stream",
     "text": [
      "1\n",
      "2\n",
      "Fizz\n",
      "4\n",
      "Buzz\n",
      "Fizz\n",
      "7\n",
      "8\n",
      "Fizz\n",
      "Buzz\n",
      "11\n",
      "Fizz\n",
      "13\n",
      "14\n",
      "FizzBuzz\n",
      "16\n",
      "17\n",
      "Fizz\n",
      "19\n",
      "Buzz\n",
      "Fizz\n",
      "22\n",
      "23\n",
      "Fizz\n",
      "Buzz\n",
      "26\n",
      "Fizz\n",
      "28\n",
      "29\n",
      "FizzBuzz\n",
      "31\n",
      "32\n",
      "Fizz\n",
      "34\n",
      "Buzz\n",
      "Fizz\n",
      "37\n",
      "38\n",
      "Fizz\n",
      "Buzz\n",
      "41\n",
      "Fizz\n",
      "43\n",
      "44\n",
      "FizzBuzz\n",
      "46\n",
      "47\n",
      "Fizz\n",
      "49\n",
      "Buzz\n"
     ]
    }
   ],
   "source": [
    "for i in range(1, 51):\n",
    "    if i % 3 == 0 and i % 5 == 0:\n",
    "        print(\"FizzBuzz\")\n",
    "    elif i % 3 == 0:\n",
    "        print(\"Fizz\")\n",
    "    elif i % 5 == 0:\n",
    "        print(\"Buzz\")\n",
    "    else:\n",
    "        print(i)"
   ]
  },
  {
   "cell_type": "markdown",
   "id": "8d3505cf",
   "metadata": {},
   "source": [
    "# Q10\n",
    " Write a Python program to find the median of three values inputs from the user"
   ]
  },
  {
   "cell_type": "code",
   "execution_count": 11,
   "id": "649a3044-22db-402e-bd51-60b508b864e0",
   "metadata": {},
   "outputs": [
    {
     "name": "stdin",
     "output_type": "stream",
     "text": [
      "Enter the first number:  10\n",
      "Enter the second number:  8\n",
      "Enter the third number:  14\n"
     ]
    },
    {
     "name": "stdout",
     "output_type": "stream",
     "text": [
      "The median of the three values is: 10\n"
     ]
    }
   ],
   "source": [
    "def find_median(a, b, c):\n",
    "    numbers = [a, b, c]\n",
    "    numbers.sort()\n",
    "    return numbers[1]\n",
    "num1 = int(input(\"Enter the first number: \"))\n",
    "num2 = int(input(\"Enter the second number: \"))\n",
    "num3 = int(input(\"Enter the third number: \"))\n",
    "median = find_median(num1, num2, num3)\n",
    "print(f\"The median of the three values is: {median}\")"
   ]
  },
  {
   "cell_type": "markdown",
   "id": "9ef4f8a2",
   "metadata": {},
   "source": [
    "# Q11\n",
    "Write a Python program to calculate the sum and average of n integer numbers (input from the user). Input 0 to finish."
   ]
  },
  {
   "cell_type": "code",
   "execution_count": 12,
   "id": "329d49a9-a0eb-4265-96de-78cf6d7f0f97",
   "metadata": {},
   "outputs": [
    {
     "name": "stdin",
     "output_type": "stream",
     "text": [
      "Enter an integer number (0 to finish):  10\n",
      "Enter an integer number (0 to finish):  91\n",
      "Enter an integer number (0 to finish):  17\n",
      "Enter an integer number (0 to finish):  20\n",
      "Enter an integer number (0 to finish):  0\n"
     ]
    },
    {
     "name": "stdout",
     "output_type": "stream",
     "text": [
      "The sum of the entered numbers is: 138\n",
      "The average of the entered numbers is: 34.5\n"
     ]
    }
   ],
   "source": [
    "def calculate_sum_and_average():\n",
    "    total = 0\n",
    "    count = 0\n",
    "    while True:\n",
    "        number = int(input(\"Enter an integer number (0 to finish): \"))\n",
    "        if number == 0:\n",
    "            break\n",
    "        total += number\n",
    "        count += 1\n",
    "    if count == 0:\n",
    "        print(\"No numbers were entered.\")\n",
    "    else:\n",
    "        average = total / count\n",
    "        print(f\"The sum of the entered numbers is: {total}\")\n",
    "        print(f\"The average of the entered numbers is: {average}\")\n",
    "calculate_sum_and_average()"
   ]
  },
  {
   "cell_type": "markdown",
   "id": "45f5c335",
   "metadata": {},
   "source": [
    "# Q12\n",
    " Write a Python program to create the multiplication table (from 1 to 12) of a number input from a user.\n",
    " \n",
    " Expected Output:\n",
    "\n",
    "Input a number: 6                                                       \n",
    "6 x 1 = 6                                                               \n",
    "6 x 2 = 12                                                              \n",
    "6 x 3 = 18                                                              \n",
    "6 x 4 = 24                                                              \n",
    "6 x 5 = 30                                                              \n",
    "6 x 6 = 36                                                              \n",
    "6 x 7 = 42                                                              \n",
    "6 x 8 = 48                                                              \n",
    "6 x 9 = 54                                                              \n",
    "6 x 10 = 60 \n",
    "\n",
    "6 x 11 = 66\n",
    "\n",
    "6 x 12 = 72"
   ]
  },
  {
   "cell_type": "code",
   "execution_count": 14,
   "id": "2d0acf5b-f4d2-4a4f-8479-7a896424b961",
   "metadata": {},
   "outputs": [
    {
     "name": "stdin",
     "output_type": "stream",
     "text": [
      "Enter a number to generate its multiplication table:  6\n"
     ]
    },
    {
     "name": "stdout",
     "output_type": "stream",
     "text": [
      "Multiplication table for 6:\n",
      "6 x 1 = 6\n",
      "6 x 2 = 12\n",
      "6 x 3 = 18\n",
      "6 x 4 = 24\n",
      "6 x 5 = 30\n",
      "6 x 6 = 36\n",
      "6 x 7 = 42\n",
      "6 x 8 = 48\n",
      "6 x 9 = 54\n",
      "6 x 10 = 60\n",
      "6 x 11 = 66\n",
      "6 x 12 = 72\n"
     ]
    }
   ],
   "source": [
    "def multiplication_table():\n",
    "    number = int(input(\"Enter a number to generate its multiplication table: \"))\n",
    "    print(f\"Multiplication table for {number}:\")\n",
    "    for i in range(1, 13):\n",
    "        print(f\"{number} x {i} = {number * i}\")\n",
    "multiplication_table()"
   ]
  },
  {
   "cell_type": "markdown",
   "id": "8cc97048",
   "metadata": {},
   "source": [
    "# Q13\n",
    "Write a Python program to construct the following pattern\n",
    "\n",
    "1\n",
    "\n",
    "22\n",
    "\n",
    "333\n",
    "\n",
    "4444\n",
    "\n",
    "55555\n",
    "\n",
    "666666\n",
    "\n",
    "7777777\n",
    "\n",
    "88888888\n",
    "\n",
    "999999999"
   ]
  },
  {
   "cell_type": "code",
   "execution_count": 15,
   "id": "e935474b-cdd2-4fc4-90c6-7b5a7a182457",
   "metadata": {},
   "outputs": [
    {
     "name": "stdout",
     "output_type": "stream",
     "text": [
      "1\n",
      "22\n",
      "333\n",
      "4444\n",
      "55555\n",
      "666666\n",
      "7777777\n",
      "88888888\n",
      "999999999\n"
     ]
    }
   ],
   "source": [
    "def number_pattern():\n",
    "    for i in range(1, 10):\n",
    "        print(str(i) * i)\n",
    "number_pattern()"
   ]
  },
  {
   "cell_type": "markdown",
   "id": "adef967a",
   "metadata": {},
   "source": [
    "# Q14\n",
    "Print sum of all odd numbers from 10 to 50"
   ]
  },
  {
   "cell_type": "code",
   "execution_count": 16,
   "id": "fa8da859-0fbc-4763-9e8c-6d0892fe54ea",
   "metadata": {},
   "outputs": [
    {
     "name": "stdout",
     "output_type": "stream",
     "text": [
      "Sum of all odd numbers from 10 to 50 is: 600\n"
     ]
    }
   ],
   "source": [
    "def sum_of_odd_numbers(start, end):\n",
    "    total = 0\n",
    "    for num in range(start, end + 1):\n",
    "        if num % 2 != 0:\n",
    "            total += num\n",
    "    return total\n",
    "start = 10\n",
    "end = 50\n",
    "sum_odd = sum_of_odd_numbers(start, end)\n",
    "print(\"Sum of all odd numbers from\", start, \"to\", end, \"is:\", sum_odd)"
   ]
  },
  {
   "cell_type": "markdown",
   "id": "1642ec1a",
   "metadata": {},
   "source": [
    "# Q15\n",
    "\n",
    "`my_list = [25, 100, 121, 400, 81]`\n",
    "\n",
    "Write the code to display the list of the square root of each number in my list\n",
    "\n",
    "- Without using list comprehension\n",
    "- Using list comprehension"
   ]
  },
  {
   "cell_type": "markdown",
   "id": "432df490-da21-4c13-aa7e-66b6d005f5b4",
   "metadata": {},
   "source": [
    "### Without List Comprehension"
   ]
  },
  {
   "cell_type": "code",
   "execution_count": 18,
   "id": "b0f48c9e-dbdb-49aa-8aff-c7c260f822b2",
   "metadata": {},
   "outputs": [
    {
     "name": "stdout",
     "output_type": "stream",
     "text": [
      "Square roots of each number in my list: [5.0, 10.0, 11.0, 20.0, 9.0]\n"
     ]
    }
   ],
   "source": [
    "import math\n",
    "my_list = [25, 100, 121, 400, 81]\n",
    "square_roots = []\n",
    "for num in my_list:\n",
    "    square_roots.append(math.sqrt(num))\n",
    "print(\"Square roots of each number in my list:\", square_roots)"
   ]
  },
  {
   "cell_type": "markdown",
   "id": "1604685f-899b-4340-b596-b52b6a2ca6ca",
   "metadata": {},
   "source": [
    "### With List Comprehension"
   ]
  },
  {
   "cell_type": "code",
   "execution_count": 20,
   "id": "76088306-2d8a-43cc-9f81-a0f677287a2c",
   "metadata": {},
   "outputs": [
    {
     "name": "stdout",
     "output_type": "stream",
     "text": [
      "Square roots of each number in my list: [5.0, 10.0, 11.0, 20.0, 9.0]\n"
     ]
    }
   ],
   "source": [
    "import math\n",
    "my_list = [25, 100, 121, 400, 81]\n",
    "square_roots = [math.sqrt(num) for num in my_list]\n",
    "print(\"Square roots of each number in my list:\", square_roots)"
   ]
  }
 ],
 "metadata": {
  "kernelspec": {
   "display_name": "Python 3 (ipykernel)",
   "language": "python",
   "name": "python3"
  },
  "language_info": {
   "codemirror_mode": {
    "name": "ipython",
    "version": 3
   },
   "file_extension": ".py",
   "mimetype": "text/x-python",
   "name": "python",
   "nbconvert_exporter": "python",
   "pygments_lexer": "ipython3",
   "version": "3.11.7"
  }
 },
 "nbformat": 4,
 "nbformat_minor": 5
}
